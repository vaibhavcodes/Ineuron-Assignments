{
 "cells": [
  {
   "cell_type": "markdown",
   "metadata": {},
   "source": [
    "## Task-1"
   ]
  },
  {
   "cell_type": "markdown",
   "metadata": {},
   "source": [
    "### Question-1.1"
   ]
  },
  {
   "cell_type": "code",
   "execution_count": 1,
   "metadata": {},
   "outputs": [],
   "source": [
    "ar1 = [2, 4, 6, 8, 10] # Sample list\n"
   ]
  },
  {
   "cell_type": "code",
   "execution_count": 2,
   "metadata": {},
   "outputs": [
    {
     "data": {
      "text/plain": [
       "30"
      ]
     },
     "execution_count": 2,
     "metadata": {},
     "output_type": "execute_result"
    }
   ],
   "source": [
    "# Doing by Reduce in-built function\n",
    "from functools import reduce\n",
    "\n",
    "res_1 = reduce(lambda a,b : a+b , ar1)\n",
    "res_1"
   ]
  },
  {
   "cell_type": "code",
   "execution_count": 3,
   "metadata": {},
   "outputs": [
    {
     "name": "stdout",
     "output_type": "stream",
     "text": [
      "30\n"
     ]
    }
   ],
   "source": [
    "# Implement the same as above by own myreduce() function \n",
    "def myreduce(test):\n",
    "    c=0\n",
    "    for i in test:\n",
    "        c+=i\n",
    "    return c        \n",
    "    \n",
    "    \n",
    "result = myreduce(ar1)\n",
    "print(result)"
   ]
  },
  {
   "cell_type": "markdown",
   "metadata": {},
   "source": [
    "### Question-1.2"
   ]
  },
  {
   "cell_type": "code",
   "execution_count": 4,
   "metadata": {},
   "outputs": [],
   "source": [
    "ar2 = [ 2, 4, 6, 1, 7, 10, 23, 25, 79, 101]"
   ]
  },
  {
   "cell_type": "code",
   "execution_count": 5,
   "metadata": {},
   "outputs": [
    {
     "data": {
      "text/plain": [
       "[79, 101]"
      ]
     },
     "execution_count": 5,
     "metadata": {},
     "output_type": "execute_result"
    }
   ],
   "source": [
    "# Doing by filter in-built function\n",
    "res_1 = filter( lambda a: a > 52 , ar2)\n",
    "list(res_1)"
   ]
  },
  {
   "cell_type": "code",
   "execution_count": 6,
   "metadata": {},
   "outputs": [
    {
     "name": "stdout",
     "output_type": "stream",
     "text": [
      "[79, 101]\n"
     ]
    }
   ],
   "source": [
    "# Implement the same as above by own myfilter() function \n",
    "def myfilter(test):\n",
    "    c=[]\n",
    "    for i in test:\n",
    "        if i >52:\n",
    "            c.append(i)\n",
    "    return c        \n",
    "    \n",
    "    \n",
    "result = myfilter(ar2)\n",
    "print(result)"
   ]
  },
  {
   "cell_type": "markdown",
   "metadata": {},
   "source": [
    "###  Question-2"
   ]
  },
  {
   "cell_type": "code",
   "execution_count": 7,
   "metadata": {},
   "outputs": [
    {
     "name": "stdout",
     "output_type": "stream",
     "text": [
      "['A', 'C', 'A', 'D', 'G', 'I', 'L', 'D']\n"
     ]
    }
   ],
   "source": [
    "l1 = \"ACADGILD\"\n",
    "r1 =[i for i in l1]\n",
    "print(r1)"
   ]
  },
  {
   "cell_type": "code",
   "execution_count": 8,
   "metadata": {},
   "outputs": [
    {
     "name": "stdout",
     "output_type": "stream",
     "text": [
      "['x', 'xx', 'xxx', 'xxxx', 'y', 'yy', 'yyy', 'yyyy', 'z', 'zz', 'zzz', 'zzzz']\n"
     ]
    }
   ],
   "source": [
    "l2 = \"xyz\"\n",
    "r2 = [i*j for i in l2 for j in range(1,5)]\n",
    "print(r2)"
   ]
  },
  {
   "cell_type": "code",
   "execution_count": 9,
   "metadata": {},
   "outputs": [
    {
     "name": "stdout",
     "output_type": "stream",
     "text": [
      "['x', 'y', 'z', 'xx', 'yy', 'zz', 'xx', 'yy', 'zz', 'xxxx', 'yyyy', 'zzzz']\n"
     ]
    }
   ],
   "source": [
    "l3 = \"xyz\"\n",
    "r3 = [j*i  for i in [1,2,2,4] for j in l3]\n",
    "print(r3)"
   ]
  },
  {
   "cell_type": "code",
   "execution_count": 10,
   "metadata": {},
   "outputs": [
    {
     "name": "stdout",
     "output_type": "stream",
     "text": [
      "[[2], [3], [4], [3], [4], [5], [4], [5], [6]]\n"
     ]
    }
   ],
   "source": [
    "l4 = [2,3,4]\n",
    "r4 = [ [i+j] for i in l4 for j in range(3)]\n",
    "print(r4)"
   ]
  },
  {
   "cell_type": "code",
   "execution_count": 11,
   "metadata": {},
   "outputs": [
    {
     "name": "stdout",
     "output_type": "stream",
     "text": [
      "[[2, 3, 4, 5], [3, 4, 5, 6], [4, 5, 6, 7], [5, 6, 7, 8]]\n"
     ]
    }
   ],
   "source": [
    "l5 = [2,3,4,5]\n",
    "r5 = [ [i+0, i+1, i+2, i+3] for i in l5 ]\n",
    "print(r5)"
   ]
  },
  {
   "cell_type": "code",
   "execution_count": 12,
   "metadata": {},
   "outputs": [
    {
     "data": {
      "text/plain": [
       "[(1, 1), (2, 1), (3, 1), (1, 2), (2, 2), (3, 2), (1, 3), (2, 3), (3, 3)]"
      ]
     },
     "execution_count": 12,
     "metadata": {},
     "output_type": "execute_result"
    }
   ],
   "source": [
    "l6 = [1,2,3]\n",
    "r6 = [ (i,j) for i in l6 for j in l6 ]\n",
    "r6.sort(key= lambda x: x[1])\n",
    "r6"
   ]
  },
  {
   "cell_type": "markdown",
   "metadata": {},
   "source": [
    "### Question-3"
   ]
  },
  {
   "cell_type": "code",
   "execution_count": 13,
   "metadata": {},
   "outputs": [
    {
     "name": "stdout",
     "output_type": "stream",
     "text": [
      "Enter a word: abcdefghi\n",
      "Enter a word: qwerty\n",
      "Enter a word: b\n",
      "Enter a word: kl\n",
      "Enter a word: poiuytrewqas\n",
      "poiuytrewqas\n"
     ]
    }
   ],
   "source": [
    "def longestWord(l):\n",
    "    z = list(map(len, l))\n",
    "    largest = max(z)\n",
    "    return(l[z.index(largest)])\n",
    "    \n",
    "\n",
    "ar=[]\n",
    "for _ in range(5):\n",
    "    ar.append(input(\"Enter a word: \"))\n",
    "print(longestWord(ar))"
   ]
  },
  {
   "cell_type": "markdown",
   "metadata": {},
   "source": [
    "## Task-2"
   ]
  },
  {
   "cell_type": "markdown",
   "metadata": {},
   "source": [
    "### Question-1.1"
   ]
  },
  {
   "cell_type": "code",
   "execution_count": 14,
   "metadata": {},
   "outputs": [
    {
     "name": "stdout",
     "output_type": "stream",
     "text": [
      "Enter the sides:1\n",
      "Enter the sides:1\n",
      "Enter the sides:1\n",
      "0.4330127018922193\n"
     ]
    }
   ],
   "source": [
    "class Parent_triangle:\n",
    "    def __init__(self, a, b, c):\n",
    "        self.a = a\n",
    "        self.b = b\n",
    "        self.c = c\n",
    "        \n",
    "class area(Parent_triangle):\n",
    "    def area_triangle(self):\n",
    "        s = (self.a + self.b + self.c)/2\n",
    "        ar = (s*(s-self.a)*(s-self.b)*(s-self.c)) ** 0.5 \n",
    "        return(ar)\n",
    "    \n",
    "a,b,c = map(int, [input(\"Enter the sides:\") for i in range(3)])\n",
    "\n",
    "obj = area(a,b,c)\n",
    "result = obj.area_triangle()\n",
    "print(result)"
   ]
  },
  {
   "cell_type": "markdown",
   "metadata": {},
   "source": [
    "### Question-1.2"
   ]
  },
  {
   "cell_type": "code",
   "execution_count": 15,
   "metadata": {},
   "outputs": [
    {
     "name": "stdout",
     "output_type": "stream",
     "text": [
      "Enter the length needed:--> 3\n",
      "Enter a word:--> qwertyuiop\n",
      "Enter a word:--> asew\n",
      "Enter a word:--> vf\n",
      "Enter a word:--> n\n",
      "Enter a word:--> mnbcvxzsdftyh\n",
      "['qwertyuiop', 'asew', 'mnbcvxzsdftyh']\n"
     ]
    }
   ],
   "source": [
    "def filter_long_words(li , n):\n",
    "    res = filter(lambda x: len(x)>n , li)\n",
    "    return (list(res))\n",
    "\n",
    "n = int(input(\"Enter the length needed:--> \"))\n",
    "inp = [input(\"Enter a word:--> \") for _ in range(5)]\n",
    "print(filter_long_words(inp , n))       \n"
   ]
  },
  {
   "cell_type": "markdown",
   "metadata": {},
   "source": [
    "### Question-2.1"
   ]
  },
  {
   "cell_type": "code",
   "execution_count": 16,
   "metadata": {},
   "outputs": [
    {
     "name": "stdout",
     "output_type": "stream",
     "text": [
      "[2, 3, 4]\n"
     ]
    }
   ],
   "source": [
    "def measure(x):\n",
    "    return len(x)\n",
    "\n",
    "inp = ['ab' , 'cde' , 'erty'] \n",
    "\n",
    "result = list(map(measure, inp))\n",
    "print(result)"
   ]
  },
  {
   "cell_type": "markdown",
   "metadata": {},
   "source": [
    "### Question-2.2"
   ]
  },
  {
   "cell_type": "code",
   "execution_count": 17,
   "metadata": {},
   "outputs": [
    {
     "name": "stdout",
     "output_type": "stream",
     "text": [
      "Enter a character:--> k\n",
      "False\n"
     ]
    }
   ],
   "source": [
    "def check_vowel(c):\n",
    "    if c in ['a','e','i','o','u','A','E','I','O','U']:\n",
    "        return True\n",
    "    else:\n",
    "        return False\n",
    "    \n",
    "vowel = input(\"Enter a character:--> \")\n",
    "print(check_vowel(vowel))"
   ]
  },
  {
   "cell_type": "markdown",
   "metadata": {},
   "source": [
    "### END"
   ]
  }
 ],
 "metadata": {
  "kernelspec": {
   "display_name": "Python 3",
   "language": "python",
   "name": "python3"
  },
  "language_info": {
   "codemirror_mode": {
    "name": "ipython",
    "version": 3
   },
   "file_extension": ".py",
   "mimetype": "text/x-python",
   "name": "python",
   "nbconvert_exporter": "python",
   "pygments_lexer": "ipython3",
   "version": "3.7.3"
  }
 },
 "nbformat": 4,
 "nbformat_minor": 2
}
